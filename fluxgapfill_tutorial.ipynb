{
 "cells": [
  {
   "cell_type": "markdown",
   "metadata": {},
   "source": [
    "## Install fluxgapfill\n",
    "\n",
    "only needed for the first time"
   ]
  },
  {
   "cell_type": "code",
   "execution_count": 1,
   "metadata": {},
   "outputs": [
    {
     "name": "stdout",
     "output_type": "stream",
     "text": [
      "^C\n"
     ]
    }
   ],
   "source": [
    "!pip install fluxgapfill"
   ]
  },
  {
   "cell_type": "markdown",
   "metadata": {},
   "source": [
    "## Import fluxgapfill"
   ]
  },
  {
   "cell_type": "code",
   "execution_count": 2,
   "metadata": {},
   "outputs": [],
   "source": [
    "from fluxgapfill.main import *"
   ]
  },
  {
   "cell_type": "markdown",
   "metadata": {},
   "source": [
    "## Create or Specify the directory of a Project Folder\n",
    "\n",
    "The project folder should/will contain all input data and computational results."
   ]
  },
  {
   "cell_type": "code",
   "execution_count": null,
   "metadata": {},
   "outputs": [],
   "source": [
    "data_dir = 'E:\\projects\\methane_gapfilling\\code_final\\data_dir'"
   ]
  },
  {
   "cell_type": "markdown",
   "metadata": {},
   "source": [
    "## Prepare Site Data\n",
    "\n",
    "For testing - no need to prepare data. \n",
    "\n",
    "For gapfilling site data,\n",
    "\n",
    "1) create a site data folder under the Project folder\n",
    "\n",
    "2) set the folder name to \"site name\" \n",
    "\n",
    "3) organize the site data in a .csv file and name it as \"raw.csv\"\n",
    "\n",
    "4) put the site data csv in Project Folder/Site Data Folder\n"
   ]
  },
  {
   "cell_type": "markdown",
   "metadata": {},
   "source": [
    "## Set Parameters"
   ]
  },
  {
   "cell_type": "code",
   "execution_count": null,
   "metadata": {},
   "outputs": [],
   "source": [
    "sites = 'TEST'\n",
    "\n",
    "'''\n",
    "1) for testing, input \"TEST\"\n",
    "2) for one site, input the name of the site data folder, e.g., \"MPM\"\n",
    "3) for multiple sites, input a series of sites devided by \",\", e.g., \"MPM, rf\"\n",
    "''' "
   ]
  },
  {
   "cell_type": "code",
   "execution_count": null,
   "metadata": {},
   "outputs": [],
   "source": [
    "models=['rf']\n",
    "\n",
    "'''\n",
    "1) input a list of model names devided by \",\", e.g., ['lasso', 'ann']\n",
    "models supported: 'lasso', 'ann'\n",
    "\n",
    "'''\n"
   ]
  },
  {
   "cell_type": "code",
   "execution_count": 8,
   "metadata": {},
   "outputs": [],
   "source": [
    "predictors = 'all'\n",
    "\n",
    "'''\n",
    "1) input a list of predictors. Comma-separated list of predictors. Ignored if\n",
    "                                predictors_path is provided.\n",
    "                                Certain keyword predictors are used to denote\n",
    "                                specific sets of predictors:\n",
    "\n",
    "2) input shortcuts. \n",
    "\"all\": all usable predictors in the data\n",
    "\"temporal\": \n",
    "\n",
    "3) input a list of paths to files having predictor names. Comma-separated list path file(s) with\n",
    "                                      predictor names. See predictors/metereological.txt for an\n",
    "                                      example.\n",
    "'''"
   ]
  },
  {
   "cell_type": "markdown",
   "metadata": {},
   "source": [
    "## Step-by-step Gapfilling"
   ]
  },
  {
   "cell_type": "code",
   "execution_count": 4,
   "metadata": {},
   "outputs": [
    {
     "name": "stdout",
     "output_type": "stream",
     "text": [
      "Data preprocessing... - site: TEST\n",
      " - Loading test data\n",
      " - Estimating artificial gap distribution...\n"
     ]
    },
    {
     "name": "stderr",
     "output_type": "stream",
     "text": [
      "100%|████████████████████████████████████████████████████████████████████████████████| 100/100 [02:02<00:00,  1.22s/it]\n"
     ]
    },
    {
     "name": "stdout",
     "output_type": "stream",
     "text": [
      " - Done estimating artificial gap distribution.\n",
      " - Done preprocessing data for site TEST.\n",
      " - Processed data written to E:\\projects\\methane_gapfilling\\code_final\\data_dir\\TEST.\n",
      "\n"
     ]
    }
   ],
   "source": [
    "preprocess(sites=sites, \n",
    "           na_values=-9999, # set a different na_values if needed\n",
    "           data_dir=data_dir)"
   ]
  },
  {
   "cell_type": "code",
   "execution_count": 5,
   "metadata": {
    "scrolled": false
   },
   "outputs": [
    {
     "name": "stdout",
     "output_type": "stream",
     "text": [
      "Model training...\n",
      " - site: TEST\n",
      " - model: rf\n",
      " - predictors: TIMESTAMP_END,Year,DOY,Hour,Tair,Pa,PPFD,VPD,TS20cm,TS40cm,WTD,Twater,Salinity,DO,LE,GPP,Reco,NEE\n",
      " - Training on 0/10...\n",
      " - Training on 1/10...\n",
      " - Training on 2/10...\n",
      " - Training on 3/10...\n",
      " - Training on 4/10...\n",
      " - Training on 5/10...\n",
      " - Training on 6/10...\n",
      " - Training on 7/10...\n",
      " - Training on 8/10...\n",
      " - Training on 9/10...\n",
      " - Done model training.\n",
      "\n"
     ]
    }
   ],
   "source": [
    "train(sites=sites,\n",
    "      data_dir=data_dir,\n",
    "      models=models,\n",
    "      predictors=predictors,\n",
    "      overwrite_existing_models=True)"
   ]
  },
  {
   "cell_type": "code",
   "execution_count": 6,
   "metadata": {},
   "outputs": [
    {
     "name": "stdout",
     "output_type": "stream",
     "text": [
      "Model testing...\n",
      " - site: TEST\n",
      " - model: rf\n",
      " - predictors: predictors\n",
      " - Writing test metrics to: E:\\projects\\methane_gapfilling\\code_final\\data_dir\\TEST\\models\\rf\\predictors\\test_results.csv\n",
      "\n"
     ]
    }
   ],
   "source": [
    "test(data_dir=data_dir,\n",
    "     sites=sites,\n",
    "     models=models,\n",
    "     predictors='all',\n",
    "     split='test',\n",
    "     distribution='laplace',\n",
    "     overwrite_results=True\n",
    "     )"
   ]
  },
  {
   "cell_type": "code",
   "execution_count": 7,
   "metadata": {},
   "outputs": [
    {
     "name": "stdout",
     "output_type": "stream",
     "text": [
      "Gapfilling: TEST, rf, predictors, laplace\n",
      " - Writing gapfilled data to E:\\projects\\methane_gapfilling\\code_final\\data_dir\\TEST\\gapfilled\\rf_predictors_laplace.csv\n",
      "\n",
      "Computing Annual Budget: TEST, rf, predictors, laplace\n",
      " - Budget between 2017-01-01 and 2018-01-01 is 0.55 +/- 0.19\n",
      " - Writing budget data to E:\\projects\\methane_gapfilling\\code_final\\data_dir\\TEST\\gapfilled\\rf_predictors_laplace_budget.csv\n",
      "\n"
     ]
    }
   ],
   "source": [
    "gapfill(data_dir=data_dir, \n",
    "        sites=sites,\n",
    "        models=models)"
   ]
  },
  {
   "cell_type": "code",
   "execution_count": null,
   "metadata": {},
   "outputs": [],
   "source": []
  },
  {
   "cell_type": "markdown",
   "metadata": {},
   "source": [
    "## One-click Gapfilling"
   ]
  },
  {
   "cell_type": "code",
   "execution_count": 12,
   "metadata": {},
   "outputs": [
    {
     "name": "stdout",
     "output_type": "stream",
     "text": [
      "Data preprocessing... - site: TEST\n",
      " - Loading test data\n",
      " - Estimating artificial gap distribution...\n"
     ]
    },
    {
     "name": "stderr",
     "output_type": "stream",
     "text": [
      "100%|████████████████████████████████████████████████████████████████████████████████| 100/100 [02:01<00:00,  1.21s/it]\n"
     ]
    },
    {
     "name": "stdout",
     "output_type": "stream",
     "text": [
      " - Done estimating artificial gap distribution.\n",
      " - Done preprocessing data for site TEST.\n",
      " - Processed data written to E:\\projects\\methane_gapfilling\\code_final\\data_dir\\TEST.\n",
      "\n",
      "Model training...\n",
      " - site: TEST\n",
      " - model: rf\n",
      " - predictors: TIMESTAMP_END,Year,DOY,Hour,Tair,Pa,PPFD,VPD,TS20cm,TS40cm,WTD,Twater,Salinity,DO,LE,GPP,Reco,NEE\n",
      " - Training on 0/10...\n",
      " - Training on 1/10...\n",
      " - Training on 2/10...\n",
      " - Training on 3/10...\n",
      " - Training on 4/10...\n",
      " - Training on 5/10...\n",
      " - Training on 6/10...\n",
      " - Training on 7/10...\n",
      " - Training on 8/10...\n",
      " - Training on 9/10...\n",
      " - Done model training.\n",
      "\n",
      "Model testing... - site: TEST\n",
      " - model: rf\n",
      " - predictors: predictors\n",
      " - Writing test metrics to: E:\\projects\\methane_gapfilling\\code_final\\data_dir\\TEST\\models\\rf\\predictors\\test_results.csv\n",
      "\n",
      "Gapfilling: TEST, rf, predictors, laplace\n",
      " - Writing gapfilled data to E:\\projects\\methane_gapfilling\\code_final\\data_dir\\TEST\\gapfilled\\rf_predictors_laplace.csv\n",
      "\n",
      "Computing Annual Budget: TEST, rf, predictors, laplace\n",
      " - Budget between 2017-01-01 and 2018-01-01 is 0.55 +/- 0.14\n",
      " - Writing budget data to E:\\projects\\methane_gapfilling\\code_final\\data_dir\\TEST\\gapfilled\\rf_predictors_laplace_budget.csv\n",
      "\n"
     ]
    }
   ],
   "source": [
    "run_all(data_dir=data_dir, \n",
    "        sites=sites,\n",
    "        models=models,\n",
    "        predictors='all',\n",
    "        split='test',\n",
    "        distribution='laplace',\n",
    "        overwrite_existing_models=True,\n",
    "        overwrite_results=True)"
   ]
  },
  {
   "cell_type": "code",
   "execution_count": null,
   "metadata": {},
   "outputs": [],
   "source": []
  }
 ],
 "metadata": {
  "kernelspec": {
   "display_name": "methane",
   "language": "python",
   "name": "python3"
  },
  "language_info": {
   "codemirror_mode": {
    "name": "ipython",
    "version": 3
   },
   "file_extension": ".py",
   "mimetype": "text/x-python",
   "name": "python",
   "nbconvert_exporter": "python",
   "pygments_lexer": "ipython3",
   "version": "3.12.7"
  }
 },
 "nbformat": 4,
 "nbformat_minor": 4
}
